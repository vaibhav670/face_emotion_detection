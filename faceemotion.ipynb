{
 "cells": [
  {
   "cell_type": "code",
   "execution_count": 1,
   "id": "d8242976-91bd-4d7d-93c4-5a96d7fe71e8",
   "metadata": {},
   "outputs": [],
   "source": [
    "from tensorflow.keras.utils import to_categorical\n",
    "from tensorflow.keras.preprocessing.image import load_img\n",
    "from tensorflow.keras.models import Sequential\n",
    "from tensorflow.keras.layers import Dense, Conv2D, Dropout, Flatten, MaxPooling2D\n",
    "import os\n",
    "import pandas as pd\n",
    "import numpy as np\n"
   ]
  },
  {
   "cell_type": "code",
   "execution_count": 2,
   "id": "4662d835-9769-41aa-839b-3305af739053",
   "metadata": {},
   "outputs": [],
   "source": [
    "TRAIN_DIR = 'images/train'\n",
    "TEST_DIR = 'images/test'"
   ]
  },
  {
   "cell_type": "code",
   "execution_count": 3,
   "id": "65c3fee6-d966-486d-bdc7-61e059c437df",
   "metadata": {},
   "outputs": [],
   "source": [
    "def createdataframe(dir):\n",
    "    image_paths = []\n",
    "    labels = []\n",
    "    for label in os.listdir(dir):\n",
    "        for imagename in os.listdir(os.path.join(dir,label)):\n",
    "            image_paths.append(os.path.join(dir,label,imagename))\n",
    "            labels.append(label)\n",
    "        print(label, \"completed\")\n",
    "    return image_paths,labels"
   ]
  },
  {
   "cell_type": "code",
   "execution_count": 4,
   "id": "e1082f93-7521-41c1-8ba2-3de3c16de846",
   "metadata": {},
   "outputs": [
    {
     "name": "stdout",
     "output_type": "stream",
     "text": [
      "angry completed\n",
      "disgust completed\n",
      "fear completed\n",
      "happy completed\n",
      "neutral completed\n",
      "sad completed\n",
      "surprise completed\n"
     ]
    }
   ],
   "source": [
    "train = pd.DataFrame()\n",
    "train['image'], train['label'] = createdataframe(TRAIN_DIR)"
   ]
  },
  {
   "cell_type": "code",
   "execution_count": 5,
   "id": "f03e1d63-d78e-44dd-9564-e6655e07dc58",
   "metadata": {},
   "outputs": [
    {
     "name": "stdout",
     "output_type": "stream",
     "text": [
      "                                image     label\n",
      "0            images/train\\angry\\0.jpg     angry\n",
      "1            images/train\\angry\\1.jpg     angry\n",
      "2           images/train\\angry\\10.jpg     angry\n",
      "3        images/train\\angry\\10002.jpg     angry\n",
      "4        images/train\\angry\\10016.jpg     angry\n",
      "...                               ...       ...\n",
      "28816  images/train\\surprise\\9969.jpg  surprise\n",
      "28817  images/train\\surprise\\9985.jpg  surprise\n",
      "28818  images/train\\surprise\\9990.jpg  surprise\n",
      "28819  images/train\\surprise\\9992.jpg  surprise\n",
      "28820  images/train\\surprise\\9996.jpg  surprise\n",
      "\n",
      "[28821 rows x 2 columns]\n"
     ]
    }
   ],
   "source": [
    "print(train)"
   ]
  },
  {
   "cell_type": "code",
   "execution_count": 6,
   "id": "c92249e2-8c36-43b1-b541-4aa03c7411f6",
   "metadata": {},
   "outputs": [
    {
     "name": "stdout",
     "output_type": "stream",
     "text": [
      "angry completed\n",
      "disgust completed\n",
      "fear completed\n",
      "happy completed\n",
      "neutral completed\n",
      "sad completed\n",
      "surprise completed\n"
     ]
    }
   ],
   "source": [
    "test = pd.DataFrame()\n",
    "test['image'], test['label'] = createdataframe(TEST_DIR)"
   ]
  },
  {
   "cell_type": "code",
   "execution_count": 7,
   "id": "ee339600-253c-4aff-a741-0e1d050e5a31",
   "metadata": {},
   "outputs": [
    {
     "name": "stdout",
     "output_type": "stream",
     "text": [
      "                              image     label\n",
      "0       images/test\\angry\\10052.jpg     angry\n",
      "1       images/test\\angry\\10065.jpg     angry\n",
      "2       images/test\\angry\\10079.jpg     angry\n",
      "3       images/test\\angry\\10095.jpg     angry\n",
      "4       images/test\\angry\\10121.jpg     angry\n",
      "...                             ...       ...\n",
      "7061  images/test\\surprise\\9806.jpg  surprise\n",
      "7062  images/test\\surprise\\9830.jpg  surprise\n",
      "7063  images/test\\surprise\\9853.jpg  surprise\n",
      "7064  images/test\\surprise\\9878.jpg  surprise\n",
      "7065   images/test\\surprise\\993.jpg  surprise\n",
      "\n",
      "[7066 rows x 2 columns]\n",
      "0         images/test\\angry\\10052.jpg\n",
      "1         images/test\\angry\\10065.jpg\n",
      "2         images/test\\angry\\10079.jpg\n",
      "3         images/test\\angry\\10095.jpg\n",
      "4         images/test\\angry\\10121.jpg\n",
      "                    ...              \n",
      "7061    images/test\\surprise\\9806.jpg\n",
      "7062    images/test\\surprise\\9830.jpg\n",
      "7063    images/test\\surprise\\9853.jpg\n",
      "7064    images/test\\surprise\\9878.jpg\n",
      "7065     images/test\\surprise\\993.jpg\n",
      "Name: image, Length: 7066, dtype: object\n"
     ]
    }
   ],
   "source": [
    "print(test)\n",
    "print(test['image'])"
   ]
  },
  {
   "cell_type": "code",
   "execution_count": 8,
   "id": "6028e8f8-4d96-4a3a-8483-618792c87696",
   "metadata": {},
   "outputs": [],
   "source": [
    "from tqdm.notebook import tqdm"
   ]
  },
  {
   "cell_type": "code",
   "execution_count": 9,
   "id": "ec026f3a-3288-4244-8517-fd4cba6991d0",
   "metadata": {},
   "outputs": [],
   "source": [
    "def extract_features(images):\n",
    "    features = []\n",
    "    for image in tqdm(images):\n",
    "        img = load_img(image,grayscale =  True )\n",
    "        img = np.array(img)\n",
    "        features.append(img)\n",
    "    features = np.array(features)\n",
    "    features = features.reshape(len(features),48,48,1)\n",
    "    return features"
   ]
  },
  {
   "cell_type": "code",
   "execution_count": 10,
   "id": "0258a707-5abf-4d4b-8bc7-be5b6af77bb5",
   "metadata": {},
   "outputs": [
    {
     "data": {
      "application/vnd.jupyter.widget-view+json": {
       "model_id": "91a262e468d94035927a976b42db5482",
       "version_major": 2,
       "version_minor": 0
      },
      "text/plain": [
       "  0%|          | 0/28821 [00:00<?, ?it/s]"
      ]
     },
     "metadata": {},
     "output_type": "display_data"
    },
    {
     "name": "stderr",
     "output_type": "stream",
     "text": [
      "C:\\Users\\vaibh\\AppData\\Local\\Programs\\Python\\Python311\\Lib\\site-packages\\keras\\utils\\image_utils.py:409: UserWarning: grayscale is deprecated. Please use color_mode = \"grayscale\"\n",
      "  warnings.warn(\n"
     ]
    }
   ],
   "source": [
    "train_features = extract_features(train['image'])"
   ]
  },
  {
   "cell_type": "code",
   "execution_count": 11,
   "id": "5a13430f-c06a-40aa-96bb-3baaaaa9d35c",
   "metadata": {},
   "outputs": [
    {
     "data": {
      "application/vnd.jupyter.widget-view+json": {
       "model_id": "989bd6d505d44933b986cb198a25a04a",
       "version_major": 2,
       "version_minor": 0
      },
      "text/plain": [
       "  0%|          | 0/7066 [00:00<?, ?it/s]"
      ]
     },
     "metadata": {},
     "output_type": "display_data"
    }
   ],
   "source": [
    "test_features = extract_features(test['image'])"
   ]
  },
  {
   "cell_type": "code",
   "execution_count": 12,
   "id": "5083f9eb-f6a0-4f5b-92bf-cce6f1cbf2a5",
   "metadata": {},
   "outputs": [],
   "source": [
    "x_train = train_features/255.0\n",
    "x_test = test_features/255.0"
   ]
  },
  {
   "cell_type": "code",
   "execution_count": 13,
   "id": "8faa5edf-bbf2-47b8-af58-326fc0d024eb",
   "metadata": {},
   "outputs": [],
   "source": [
    "from sklearn.preprocessing import LabelEncoder"
   ]
  },
  {
   "cell_type": "code",
   "execution_count": 14,
   "id": "707e7109-fc8b-4ed3-b4e2-3291514d3e61",
   "metadata": {},
   "outputs": [
    {
     "data": {
      "text/html": [
       "<style>#sk-container-id-1 {color: black;background-color: white;}#sk-container-id-1 pre{padding: 0;}#sk-container-id-1 div.sk-toggleable {background-color: white;}#sk-container-id-1 label.sk-toggleable__label {cursor: pointer;display: block;width: 100%;margin-bottom: 0;padding: 0.3em;box-sizing: border-box;text-align: center;}#sk-container-id-1 label.sk-toggleable__label-arrow:before {content: \"▸\";float: left;margin-right: 0.25em;color: #696969;}#sk-container-id-1 label.sk-toggleable__label-arrow:hover:before {color: black;}#sk-container-id-1 div.sk-estimator:hover label.sk-toggleable__label-arrow:before {color: black;}#sk-container-id-1 div.sk-toggleable__content {max-height: 0;max-width: 0;overflow: hidden;text-align: left;background-color: #f0f8ff;}#sk-container-id-1 div.sk-toggleable__content pre {margin: 0.2em;color: black;border-radius: 0.25em;background-color: #f0f8ff;}#sk-container-id-1 input.sk-toggleable__control:checked~div.sk-toggleable__content {max-height: 200px;max-width: 100%;overflow: auto;}#sk-container-id-1 input.sk-toggleable__control:checked~label.sk-toggleable__label-arrow:before {content: \"▾\";}#sk-container-id-1 div.sk-estimator input.sk-toggleable__control:checked~label.sk-toggleable__label {background-color: #d4ebff;}#sk-container-id-1 div.sk-label input.sk-toggleable__control:checked~label.sk-toggleable__label {background-color: #d4ebff;}#sk-container-id-1 input.sk-hidden--visually {border: 0;clip: rect(1px 1px 1px 1px);clip: rect(1px, 1px, 1px, 1px);height: 1px;margin: -1px;overflow: hidden;padding: 0;position: absolute;width: 1px;}#sk-container-id-1 div.sk-estimator {font-family: monospace;background-color: #f0f8ff;border: 1px dotted black;border-radius: 0.25em;box-sizing: border-box;margin-bottom: 0.5em;}#sk-container-id-1 div.sk-estimator:hover {background-color: #d4ebff;}#sk-container-id-1 div.sk-parallel-item::after {content: \"\";width: 100%;border-bottom: 1px solid gray;flex-grow: 1;}#sk-container-id-1 div.sk-label:hover label.sk-toggleable__label {background-color: #d4ebff;}#sk-container-id-1 div.sk-serial::before {content: \"\";position: absolute;border-left: 1px solid gray;box-sizing: border-box;top: 0;bottom: 0;left: 50%;z-index: 0;}#sk-container-id-1 div.sk-serial {display: flex;flex-direction: column;align-items: center;background-color: white;padding-right: 0.2em;padding-left: 0.2em;position: relative;}#sk-container-id-1 div.sk-item {position: relative;z-index: 1;}#sk-container-id-1 div.sk-parallel {display: flex;align-items: stretch;justify-content: center;background-color: white;position: relative;}#sk-container-id-1 div.sk-item::before, #sk-container-id-1 div.sk-parallel-item::before {content: \"\";position: absolute;border-left: 1px solid gray;box-sizing: border-box;top: 0;bottom: 0;left: 50%;z-index: -1;}#sk-container-id-1 div.sk-parallel-item {display: flex;flex-direction: column;z-index: 1;position: relative;background-color: white;}#sk-container-id-1 div.sk-parallel-item:first-child::after {align-self: flex-end;width: 50%;}#sk-container-id-1 div.sk-parallel-item:last-child::after {align-self: flex-start;width: 50%;}#sk-container-id-1 div.sk-parallel-item:only-child::after {width: 0;}#sk-container-id-1 div.sk-dashed-wrapped {border: 1px dashed gray;margin: 0 0.4em 0.5em 0.4em;box-sizing: border-box;padding-bottom: 0.4em;background-color: white;}#sk-container-id-1 div.sk-label label {font-family: monospace;font-weight: bold;display: inline-block;line-height: 1.2em;}#sk-container-id-1 div.sk-label-container {text-align: center;}#sk-container-id-1 div.sk-container {/* jupyter's `normalize.less` sets `[hidden] { display: none; }` but bootstrap.min.css set `[hidden] { display: none !important; }` so we also need the `!important` here to be able to override the default hidden behavior on the sphinx rendered scikit-learn.org. See: https://github.com/scikit-learn/scikit-learn/issues/21755 */display: inline-block !important;position: relative;}#sk-container-id-1 div.sk-text-repr-fallback {display: none;}</style><div id=\"sk-container-id-1\" class=\"sk-top-container\"><div class=\"sk-text-repr-fallback\"><pre>LabelEncoder()</pre><b>In a Jupyter environment, please rerun this cell to show the HTML representation or trust the notebook. <br />On GitHub, the HTML representation is unable to render, please try loading this page with nbviewer.org.</b></div><div class=\"sk-container\" hidden><div class=\"sk-item\"><div class=\"sk-estimator sk-toggleable\"><input class=\"sk-toggleable__control sk-hidden--visually\" id=\"sk-estimator-id-1\" type=\"checkbox\" checked><label for=\"sk-estimator-id-1\" class=\"sk-toggleable__label sk-toggleable__label-arrow\">LabelEncoder</label><div class=\"sk-toggleable__content\"><pre>LabelEncoder()</pre></div></div></div></div></div>"
      ],
      "text/plain": [
       "LabelEncoder()"
      ]
     },
     "execution_count": 14,
     "metadata": {},
     "output_type": "execute_result"
    }
   ],
   "source": [
    "le = LabelEncoder()\n",
    "le.fit(train['label'])"
   ]
  },
  {
   "cell_type": "code",
   "execution_count": 15,
   "id": "63666efd-5824-4382-ac49-1423b9d2dfa9",
   "metadata": {},
   "outputs": [],
   "source": [
    "y_train = le.transform(train['label'])\n",
    "y_test = le.transform(test['label'])"
   ]
  },
  {
   "cell_type": "code",
   "execution_count": 16,
   "id": "b6f2cb31-16f2-424d-972e-b191df06ccfe",
   "metadata": {},
   "outputs": [],
   "source": [
    "y_train = to_categorical(y_train,num_classes = 7)\n",
    "y_test = to_categorical(y_test,num_classes = 7)"
   ]
  },
  {
   "cell_type": "code",
   "execution_count": 17,
   "id": "0ee4c6cf-93f9-45ee-bc9b-df6cd88f7aa1",
   "metadata": {},
   "outputs": [],
   "source": [
    "model = Sequential()\n",
    "# convolutional layers\n",
    "model.add(Conv2D(128, kernel_size=(3,3), activation='relu', input_shape=(48,48,1)))\n",
    "model.add(MaxPooling2D(pool_size=(2,2)))\n",
    "model.add(Dropout(0.4))\n",
    "\n",
    "model.add(Conv2D(256, kernel_size=(3,3), activation='relu'))\n",
    "model.add(MaxPooling2D(pool_size=(2,2)))\n",
    "model.add(Dropout(0.4))\n",
    "\n",
    "model.add(Conv2D(512, kernel_size=(3,3), activation='relu'))\n",
    "model.add(MaxPooling2D(pool_size=(2,2)))\n",
    "model.add(Dropout(0.4))\n",
    "\n",
    "model.add(Conv2D(512, kernel_size=(3,3), activation='relu'))\n",
    "model.add(MaxPooling2D(pool_size=(2,2)))\n",
    "model.add(Dropout(0.4))\n",
    "\n",
    "model.add(Flatten())\n",
    "# fully connected layers\n",
    "model.add(Dense(512, activation='relu'))\n",
    "model.add(Dropout(0.4))\n",
    "model.add(Dense(256, activation='relu'))\n",
    "model.add(Dropout(0.3))\n",
    "# output layer\n",
    "model.add(Dense(7, activation='softmax'))"
   ]
  },
  {
   "cell_type": "code",
   "execution_count": 18,
   "id": "d801d553-67f0-4dd6-b141-19f69b533813",
   "metadata": {},
   "outputs": [],
   "source": [
    "model.compile(optimizer = 'adam', loss = 'categorical_crossentropy', metrics = 'accuracy' )"
   ]
  },
  {
   "cell_type": "code",
   "execution_count": 19,
   "id": "c09acc1c-356b-4ec6-aa10-2ed24ea4c3f6",
   "metadata": {},
   "outputs": [
    {
     "name": "stdout",
     "output_type": "stream",
     "text": [
      "Epoch 1/100\n",
      "145/145 [==============================] - 597s 4s/step - loss: 1.8254 - accuracy: 0.2407 - val_loss: 1.8094 - val_accuracy: 0.2583\n",
      "Epoch 2/100\n",
      "145/145 [==============================] - 606s 4s/step - loss: 1.8011 - accuracy: 0.2482 - val_loss: 1.7997 - val_accuracy: 0.2608\n",
      "Epoch 3/100\n",
      "145/145 [==============================] - 618s 4s/step - loss: 1.7322 - accuracy: 0.2892 - val_loss: 1.6426 - val_accuracy: 0.3381\n",
      "Epoch 4/100\n",
      "145/145 [==============================] - 667s 5s/step - loss: 1.5932 - accuracy: 0.3700 - val_loss: 1.4527 - val_accuracy: 0.4423\n",
      "Epoch 5/100\n",
      "145/145 [==============================] - 745s 5s/step - loss: 1.4791 - accuracy: 0.4242 - val_loss: 1.3730 - val_accuracy: 0.4830\n",
      "Epoch 6/100\n",
      "145/145 [==============================] - 676s 5s/step - loss: 1.4262 - accuracy: 0.4504 - val_loss: 1.3102 - val_accuracy: 0.4994\n",
      "Epoch 7/100\n",
      "145/145 [==============================] - 794s 5s/step - loss: 1.3747 - accuracy: 0.4722 - val_loss: 1.2749 - val_accuracy: 0.5123\n",
      "Epoch 8/100\n",
      "145/145 [==============================] - 843s 6s/step - loss: 1.3365 - accuracy: 0.4878 - val_loss: 1.2283 - val_accuracy: 0.5330\n",
      "Epoch 9/100\n",
      "145/145 [==============================] - 718s 5s/step - loss: 1.3048 - accuracy: 0.4996 - val_loss: 1.2114 - val_accuracy: 0.5429\n",
      "Epoch 10/100\n",
      "145/145 [==============================] - 789s 5s/step - loss: 1.2829 - accuracy: 0.5077 - val_loss: 1.1709 - val_accuracy: 0.5534\n",
      "Epoch 11/100\n",
      "145/145 [==============================] - 710s 5s/step - loss: 1.2529 - accuracy: 0.5220 - val_loss: 1.1709 - val_accuracy: 0.5532\n",
      "Epoch 12/100\n",
      "145/145 [==============================] - 722s 5s/step - loss: 1.2338 - accuracy: 0.5275 - val_loss: 1.1549 - val_accuracy: 0.5618\n",
      "Epoch 13/100\n",
      "145/145 [==============================] - 653s 5s/step - loss: 1.2151 - accuracy: 0.5374 - val_loss: 1.1266 - val_accuracy: 0.5733\n",
      "Epoch 14/100\n",
      "145/145 [==============================] - 718s 5s/step - loss: 1.2024 - accuracy: 0.5420 - val_loss: 1.1295 - val_accuracy: 0.5733\n",
      "Epoch 15/100\n",
      "145/145 [==============================] - 717s 5s/step - loss: 1.1938 - accuracy: 0.5409 - val_loss: 1.1423 - val_accuracy: 0.5712\n",
      "Epoch 16/100\n",
      "145/145 [==============================] - 720s 5s/step - loss: 1.1736 - accuracy: 0.5537 - val_loss: 1.1214 - val_accuracy: 0.5785\n",
      "Epoch 17/100\n",
      "145/145 [==============================] - 676s 5s/step - loss: 1.1699 - accuracy: 0.5510 - val_loss: 1.1140 - val_accuracy: 0.5790\n",
      "Epoch 18/100\n",
      "145/145 [==============================] - 725s 5s/step - loss: 1.1495 - accuracy: 0.5598 - val_loss: 1.0997 - val_accuracy: 0.5873\n",
      "Epoch 19/100\n",
      "145/145 [==============================] - 710s 5s/step - loss: 1.1322 - accuracy: 0.5678 - val_loss: 1.0935 - val_accuracy: 0.5870\n",
      "Epoch 20/100\n",
      "145/145 [==============================] - 685s 5s/step - loss: 1.1230 - accuracy: 0.5749 - val_loss: 1.0951 - val_accuracy: 0.5889\n",
      "Epoch 21/100\n",
      "145/145 [==============================] - 732s 5s/step - loss: 1.1150 - accuracy: 0.5761 - val_loss: 1.0984 - val_accuracy: 0.5866\n",
      "Epoch 22/100\n",
      "145/145 [==============================] - 684s 5s/step - loss: 1.1017 - accuracy: 0.5794 - val_loss: 1.0834 - val_accuracy: 0.5964\n",
      "Epoch 23/100\n",
      "145/145 [==============================] - 709s 5s/step - loss: 1.0951 - accuracy: 0.5840 - val_loss: 1.0736 - val_accuracy: 0.5986\n",
      "Epoch 24/100\n",
      "145/145 [==============================] - 706s 5s/step - loss: 1.0931 - accuracy: 0.5844 - val_loss: 1.0864 - val_accuracy: 0.5952\n",
      "Epoch 25/100\n",
      "145/145 [==============================] - 676s 5s/step - loss: 1.0725 - accuracy: 0.5945 - val_loss: 1.0718 - val_accuracy: 0.6050\n",
      "Epoch 26/100\n",
      "145/145 [==============================] - 687s 5s/step - loss: 1.0669 - accuracy: 0.5942 - val_loss: 1.0561 - val_accuracy: 0.6033\n",
      "Epoch 27/100\n",
      "145/145 [==============================] - 820s 6s/step - loss: 1.0645 - accuracy: 0.5966 - val_loss: 1.0675 - val_accuracy: 0.6044\n",
      "Epoch 28/100\n",
      "145/145 [==============================] - 832s 6s/step - loss: 1.0538 - accuracy: 0.6009 - val_loss: 1.0508 - val_accuracy: 0.6057\n",
      "Epoch 29/100\n",
      "145/145 [==============================] - 841s 6s/step - loss: 1.0422 - accuracy: 0.6050 - val_loss: 1.0508 - val_accuracy: 0.6104\n",
      "Epoch 30/100\n",
      "145/145 [==============================] - 827s 6s/step - loss: 1.0318 - accuracy: 0.6074 - val_loss: 1.0581 - val_accuracy: 0.6078\n",
      "Epoch 31/100\n",
      "145/145 [==============================] - 826s 6s/step - loss: 1.0335 - accuracy: 0.6082 - val_loss: 1.0548 - val_accuracy: 0.6081\n",
      "Epoch 32/100\n",
      "145/145 [==============================] - 824s 6s/step - loss: 1.0273 - accuracy: 0.6112 - val_loss: 1.0565 - val_accuracy: 0.6064\n",
      "Epoch 33/100\n",
      "145/145 [==============================] - 834s 6s/step - loss: 1.0021 - accuracy: 0.6202 - val_loss: 1.0472 - val_accuracy: 0.6127\n",
      "Epoch 34/100\n",
      "145/145 [==============================] - 826s 6s/step - loss: 1.0113 - accuracy: 0.6201 - val_loss: 1.0462 - val_accuracy: 0.6124\n",
      "Epoch 35/100\n",
      "145/145 [==============================] - 838s 6s/step - loss: 0.9917 - accuracy: 0.6246 - val_loss: 1.0363 - val_accuracy: 0.6159\n",
      "Epoch 36/100\n",
      "145/145 [==============================] - 830s 6s/step - loss: 0.9843 - accuracy: 0.6285 - val_loss: 1.0355 - val_accuracy: 0.6135\n",
      "Epoch 37/100\n",
      "145/145 [==============================] - 810s 6s/step - loss: 0.9756 - accuracy: 0.6324 - val_loss: 1.0394 - val_accuracy: 0.6145\n",
      "Epoch 38/100\n",
      "145/145 [==============================] - 833s 6s/step - loss: 0.9756 - accuracy: 0.6314 - val_loss: 1.0420 - val_accuracy: 0.6149\n",
      "Epoch 39/100\n",
      "145/145 [==============================] - 848s 6s/step - loss: 0.9613 - accuracy: 0.6384 - val_loss: 1.0447 - val_accuracy: 0.6162\n",
      "Epoch 40/100\n",
      "145/145 [==============================] - 834s 6s/step - loss: 0.9514 - accuracy: 0.6400 - val_loss: 1.0386 - val_accuracy: 0.6179\n",
      "Epoch 41/100\n",
      "145/145 [==============================] - 802s 6s/step - loss: 0.9546 - accuracy: 0.6441 - val_loss: 1.0391 - val_accuracy: 0.6156\n",
      "Epoch 42/100\n",
      "145/145 [==============================] - 813s 6s/step - loss: 0.9437 - accuracy: 0.6451 - val_loss: 1.0316 - val_accuracy: 0.6179\n",
      "Epoch 43/100\n",
      "145/145 [==============================] - 819s 6s/step - loss: 0.9458 - accuracy: 0.6462 - val_loss: 1.0268 - val_accuracy: 0.6202\n",
      "Epoch 44/100\n",
      "145/145 [==============================] - 843s 6s/step - loss: 0.9378 - accuracy: 0.6482 - val_loss: 1.0377 - val_accuracy: 0.6152\n",
      "Epoch 45/100\n",
      "145/145 [==============================] - 826s 6s/step - loss: 0.9214 - accuracy: 0.6514 - val_loss: 1.0339 - val_accuracy: 0.6207\n",
      "Epoch 46/100\n",
      "145/145 [==============================] - 830s 6s/step - loss: 0.9215 - accuracy: 0.6530 - val_loss: 1.0240 - val_accuracy: 0.6210\n",
      "Epoch 47/100\n",
      "145/145 [==============================] - 830s 6s/step - loss: 0.9146 - accuracy: 0.6575 - val_loss: 1.0283 - val_accuracy: 0.6277\n",
      "Epoch 48/100\n",
      "145/145 [==============================] - 819s 6s/step - loss: 0.9040 - accuracy: 0.6596 - val_loss: 1.0230 - val_accuracy: 0.6257\n",
      "Epoch 49/100\n",
      "145/145 [==============================] - 809s 6s/step - loss: 0.9000 - accuracy: 0.6614 - val_loss: 1.0313 - val_accuracy: 0.6245\n",
      "Epoch 50/100\n",
      "145/145 [==============================] - 821s 6s/step - loss: 0.8959 - accuracy: 0.6643 - val_loss: 1.0283 - val_accuracy: 0.6243\n",
      "Epoch 51/100\n",
      "145/145 [==============================] - 821s 6s/step - loss: 0.8870 - accuracy: 0.6692 - val_loss: 1.0263 - val_accuracy: 0.6248\n",
      "Epoch 52/100\n",
      "145/145 [==============================] - 827s 6s/step - loss: 0.8818 - accuracy: 0.6681 - val_loss: 1.0276 - val_accuracy: 0.6295\n",
      "Epoch 53/100\n",
      "145/145 [==============================] - 827s 6s/step - loss: 0.8820 - accuracy: 0.6668 - val_loss: 1.0288 - val_accuracy: 0.6269\n",
      "Epoch 54/100\n",
      "145/145 [==============================] - 689s 5s/step - loss: 0.8706 - accuracy: 0.6730 - val_loss: 1.0252 - val_accuracy: 0.6311\n",
      "Epoch 55/100\n",
      "145/145 [==============================] - 674s 5s/step - loss: 0.8597 - accuracy: 0.6768 - val_loss: 1.0312 - val_accuracy: 0.6235\n",
      "Epoch 56/100\n",
      "145/145 [==============================] - 636s 4s/step - loss: 0.8592 - accuracy: 0.6801 - val_loss: 1.0314 - val_accuracy: 0.6277\n",
      "Epoch 57/100\n",
      "145/145 [==============================] - 714s 5s/step - loss: 0.8603 - accuracy: 0.6772 - val_loss: 1.0370 - val_accuracy: 0.6272\n",
      "Epoch 58/100\n",
      "145/145 [==============================] - 663s 5s/step - loss: 0.8451 - accuracy: 0.6850 - val_loss: 1.0336 - val_accuracy: 0.6237\n",
      "Epoch 59/100\n",
      "145/145 [==============================] - 651s 4s/step - loss: 0.8405 - accuracy: 0.6844 - val_loss: 1.0383 - val_accuracy: 0.6247\n",
      "Epoch 60/100\n",
      "145/145 [==============================] - 628s 4s/step - loss: 0.8353 - accuracy: 0.6892 - val_loss: 1.0361 - val_accuracy: 0.6289\n",
      "Epoch 61/100\n",
      "145/145 [==============================] - 621s 4s/step - loss: 0.8240 - accuracy: 0.6935 - val_loss: 1.0307 - val_accuracy: 0.6319\n",
      "Epoch 62/100\n",
      "145/145 [==============================] - 638s 4s/step - loss: 0.8333 - accuracy: 0.6889 - val_loss: 1.0270 - val_accuracy: 0.6260\n",
      "Epoch 63/100\n",
      "145/145 [==============================] - 783s 5s/step - loss: 0.8190 - accuracy: 0.6966 - val_loss: 1.0299 - val_accuracy: 0.6350\n",
      "Epoch 64/100\n",
      "145/145 [==============================] - 760s 5s/step - loss: 0.8135 - accuracy: 0.6961 - val_loss: 1.0465 - val_accuracy: 0.6318\n",
      "Epoch 65/100\n",
      "145/145 [==============================] - 777s 5s/step - loss: 0.8113 - accuracy: 0.7007 - val_loss: 1.0222 - val_accuracy: 0.6329\n",
      "Epoch 66/100\n",
      "145/145 [==============================] - 793s 5s/step - loss: 0.7967 - accuracy: 0.7033 - val_loss: 1.0288 - val_accuracy: 0.6254\n",
      "Epoch 67/100\n",
      "145/145 [==============================] - 805s 6s/step - loss: 0.7987 - accuracy: 0.7055 - val_loss: 1.0319 - val_accuracy: 0.6262\n",
      "Epoch 68/100\n",
      "145/145 [==============================] - 793s 5s/step - loss: 0.7993 - accuracy: 0.7056 - val_loss: 1.0252 - val_accuracy: 0.6289\n",
      "Epoch 69/100\n",
      "145/145 [==============================] - 664s 5s/step - loss: 0.7883 - accuracy: 0.7077 - val_loss: 1.0269 - val_accuracy: 0.6305\n",
      "Epoch 70/100\n",
      "145/145 [==============================] - 663s 5s/step - loss: 0.7906 - accuracy: 0.7069 - val_loss: 1.0314 - val_accuracy: 0.6240\n",
      "Epoch 71/100\n",
      "145/145 [==============================] - 764s 5s/step - loss: 0.7852 - accuracy: 0.7111 - val_loss: 1.0332 - val_accuracy: 0.6315\n",
      "Epoch 72/100\n",
      "145/145 [==============================] - 761s 5s/step - loss: 0.7764 - accuracy: 0.7124 - val_loss: 1.0254 - val_accuracy: 0.6308\n",
      "Epoch 73/100\n",
      "145/145 [==============================] - 814s 6s/step - loss: 0.7767 - accuracy: 0.7107 - val_loss: 1.0342 - val_accuracy: 0.6337\n",
      "Epoch 74/100\n",
      "145/145 [==============================] - 859s 6s/step - loss: 0.7655 - accuracy: 0.7175 - val_loss: 1.0345 - val_accuracy: 0.6252\n",
      "Epoch 75/100\n",
      "145/145 [==============================] - 852s 6s/step - loss: 0.7501 - accuracy: 0.7243 - val_loss: 1.0371 - val_accuracy: 0.6292\n",
      "Epoch 76/100\n",
      "145/145 [==============================] - 842s 6s/step - loss: 0.7516 - accuracy: 0.7202 - val_loss: 1.0404 - val_accuracy: 0.6294\n",
      "Epoch 77/100\n",
      "145/145 [==============================] - 844s 6s/step - loss: 0.7557 - accuracy: 0.7197 - val_loss: 1.0339 - val_accuracy: 0.6380\n",
      "Epoch 78/100\n",
      "145/145 [==============================] - 832s 6s/step - loss: 0.7543 - accuracy: 0.7224 - val_loss: 1.0224 - val_accuracy: 0.6366\n",
      "Epoch 79/100\n",
      "145/145 [==============================] - 858s 6s/step - loss: 0.7496 - accuracy: 0.7221 - val_loss: 1.0325 - val_accuracy: 0.6370\n",
      "Epoch 80/100\n",
      "145/145 [==============================] - 868s 6s/step - loss: 0.7399 - accuracy: 0.7288 - val_loss: 1.0406 - val_accuracy: 0.6298\n",
      "Epoch 81/100\n",
      "145/145 [==============================] - 868s 6s/step - loss: 0.7353 - accuracy: 0.7291 - val_loss: 1.0366 - val_accuracy: 0.6329\n",
      "Epoch 82/100\n",
      "145/145 [==============================] - 860s 6s/step - loss: 0.7347 - accuracy: 0.7316 - val_loss: 1.0275 - val_accuracy: 0.6370\n",
      "Epoch 83/100\n",
      "145/145 [==============================] - 849s 6s/step - loss: 0.7262 - accuracy: 0.7349 - val_loss: 1.0368 - val_accuracy: 0.6330\n",
      "Epoch 84/100\n",
      "145/145 [==============================] - 858s 6s/step - loss: 0.7175 - accuracy: 0.7389 - val_loss: 1.0301 - val_accuracy: 0.6346\n",
      "Epoch 85/100\n",
      "145/145 [==============================] - 883s 6s/step - loss: 0.7094 - accuracy: 0.7390 - val_loss: 1.0340 - val_accuracy: 0.6352\n",
      "Epoch 86/100\n",
      "145/145 [==============================] - 884s 6s/step - loss: 0.7127 - accuracy: 0.7378 - val_loss: 1.0450 - val_accuracy: 0.6352\n",
      "Epoch 87/100\n",
      "145/145 [==============================] - 877s 6s/step - loss: 0.7132 - accuracy: 0.7403 - val_loss: 1.0328 - val_accuracy: 0.6288\n",
      "Epoch 88/100\n",
      "145/145 [==============================] - 866s 6s/step - loss: 0.6997 - accuracy: 0.7417 - val_loss: 1.0447 - val_accuracy: 0.6359\n",
      "Epoch 89/100\n",
      "145/145 [==============================] - 895s 6s/step - loss: 0.6998 - accuracy: 0.7461 - val_loss: 1.0289 - val_accuracy: 0.6337\n",
      "Epoch 90/100\n",
      "145/145 [==============================] - 865s 6s/step - loss: 0.7009 - accuracy: 0.7468 - val_loss: 1.0364 - val_accuracy: 0.6373\n",
      "Epoch 91/100\n",
      "145/145 [==============================] - 866s 6s/step - loss: 0.6874 - accuracy: 0.7451 - val_loss: 1.0546 - val_accuracy: 0.6313\n",
      "Epoch 92/100\n",
      "145/145 [==============================] - 875s 6s/step - loss: 0.6831 - accuracy: 0.7516 - val_loss: 1.0356 - val_accuracy: 0.6339\n",
      "Epoch 93/100\n",
      "145/145 [==============================] - 873s 6s/step - loss: 0.6738 - accuracy: 0.7508 - val_loss: 1.0406 - val_accuracy: 0.6386\n",
      "Epoch 94/100\n",
      "145/145 [==============================] - 870s 6s/step - loss: 0.6868 - accuracy: 0.7490 - val_loss: 1.0338 - val_accuracy: 0.6400\n",
      "Epoch 95/100\n",
      "145/145 [==============================] - 875s 6s/step - loss: 0.6740 - accuracy: 0.7544 - val_loss: 1.0358 - val_accuracy: 0.6349\n",
      "Epoch 96/100\n",
      "145/145 [==============================] - 861s 6s/step - loss: 0.6655 - accuracy: 0.7564 - val_loss: 1.0522 - val_accuracy: 0.6367\n",
      "Epoch 97/100\n",
      "145/145 [==============================] - 848s 6s/step - loss: 0.6660 - accuracy: 0.7565 - val_loss: 1.0405 - val_accuracy: 0.6322\n",
      "Epoch 98/100\n",
      "145/145 [==============================] - 836s 6s/step - loss: 0.6642 - accuracy: 0.7566 - val_loss: 1.0408 - val_accuracy: 0.6329\n",
      "Epoch 99/100\n",
      "145/145 [==============================] - 832s 6s/step - loss: 0.6577 - accuracy: 0.7599 - val_loss: 1.0526 - val_accuracy: 0.6340\n",
      "Epoch 100/100\n",
      "145/145 [==============================] - 857s 6s/step - loss: 0.6516 - accuracy: 0.7637 - val_loss: 1.0484 - val_accuracy: 0.6326\n"
     ]
    },
    {
     "data": {
      "text/plain": [
       "<keras.callbacks.History at 0x276eff65790>"
      ]
     },
     "execution_count": 19,
     "metadata": {},
     "output_type": "execute_result"
    }
   ],
   "source": [
    "model.fit(x= x_train,y = y_train, batch_size = 200, epochs = 100, validation_data = (x_test,y_test))"
   ]
  },
  {
   "cell_type": "code",
   "execution_count": 20,
   "id": "1e4f445f-e314-4bad-a8b0-491a67e594f3",
   "metadata": {},
   "outputs": [],
   "source": [
    "model_json = model.to_json()\n",
    "with open(\"emotiondetector.json\",'w') as json_file:\n",
    "    json_file.write(model_json)\n",
    "model.save(\"emotiondetector.h5\")"
   ]
  },
  {
   "cell_type": "code",
   "execution_count": 21,
   "id": "14d4fdbd-c484-4b1e-9ceb-909023c08c06",
   "metadata": {},
   "outputs": [],
   "source": [
    "from keras.models import model_from_json"
   ]
  },
  {
   "cell_type": "code",
   "execution_count": 22,
   "id": "7a899f08-4cdd-4aa3-8af0-21928292b5f0",
   "metadata": {},
   "outputs": [],
   "source": [
    "json_file = open(\"emotiondetector.json\", \"r\")\n",
    "model_json = json_file.read()\n",
    "json_file.close()\n",
    "model = model_from_json(model_json)\n",
    "model.load_weights(\"emotiondetector.h5\")"
   ]
  },
  {
   "cell_type": "code",
   "execution_count": 23,
   "id": "d5929f34-0214-49ff-96f6-5158b790e56e",
   "metadata": {},
   "outputs": [],
   "source": [
    "label = ['angry','disgust','fear','happy','neutral','sad','surprise']"
   ]
  },
  {
   "cell_type": "code",
   "execution_count": 24,
   "id": "c02cb55d-abb0-4cd2-a6ea-34eb897c6c8f",
   "metadata": {},
   "outputs": [],
   "source": [
    "def ef(image):\n",
    "    img = load_img(image,grayscale =  True )\n",
    "    feature = np.array(img)\n",
    "    feature = feature.reshape(1,48,48,1)\n",
    "    return feature/255.0"
   ]
  },
  {
   "cell_type": "code",
   "execution_count": 31,
   "id": "ef5046a9-5162-49ae-b36d-8146e35b53d3",
   "metadata": {},
   "outputs": [
    {
     "name": "stdout",
     "output_type": "stream",
     "text": [
      "original image is of happy\n",
      "1/1 [==============================] - 0s 45ms/step\n",
      "model prediction is  happy\n"
     ]
    }
   ],
   "source": [
    "image = 'images/train/happy/16.jpg'\n",
    "print(\"original image is of happy\")\n",
    "img = ef(image)\n",
    "pred = model.predict(img)\n",
    "pred_label = label[pred.argmax()]\n",
    "print(\"model prediction is \",pred_label)"
   ]
  },
  {
   "cell_type": "code",
   "execution_count": 28,
   "id": "d68bdda2-0606-48c5-9fe2-cb23fd49e23a",
   "metadata": {},
   "outputs": [
    {
     "name": "stdout",
     "output_type": "stream",
     "text": [
      "Collecting matplotlib\n",
      "  Downloading matplotlib-3.8.2-cp311-cp311-win_amd64.whl (7.6 MB)\n",
      "                                              0.0/7.6 MB ? eta -:--:--\n",
      "                                              0.2/7.6 MB 3.3 MB/s eta 0:00:03\n",
      "     -                                        0.2/7.6 MB 3.0 MB/s eta 0:00:03\n",
      "     -                                        0.3/7.6 MB 2.2 MB/s eta 0:00:04\n",
      "     -                                        0.4/7.6 MB 2.0 MB/s eta 0:00:04\n",
      "     --                                       0.4/7.6 MB 2.0 MB/s eta 0:00:04\n",
      "     --                                       0.5/7.6 MB 1.7 MB/s eta 0:00:05\n",
      "     --                                       0.5/7.6 MB 1.6 MB/s eta 0:00:05\n",
      "     --                                       0.5/7.6 MB 1.5 MB/s eta 0:00:05\n",
      "     ---                                      0.6/7.6 MB 1.4 MB/s eta 0:00:05\n",
      "     ---                                      0.6/7.6 MB 1.4 MB/s eta 0:00:06\n",
      "     ---                                      0.6/7.6 MB 1.3 MB/s eta 0:00:06\n",
      "     ---                                      0.6/7.6 MB 1.3 MB/s eta 0:00:06\n",
      "     ---                                      0.7/7.6 MB 1.2 MB/s eta 0:00:06\n",
      "     ---                                      0.7/7.6 MB 1.2 MB/s eta 0:00:06\n",
      "     ---                                      0.7/7.6 MB 1.2 MB/s eta 0:00:06\n",
      "     ---                                      0.7/7.6 MB 990.5 kB/s eta 0:00:08\n",
      "     ---                                      0.7/7.6 MB 990.5 kB/s eta 0:00:08\n",
      "     ---                                      0.7/7.6 MB 933.4 kB/s eta 0:00:08\n",
      "     ---                                      0.7/7.6 MB 873.7 kB/s eta 0:00:08\n",
      "     ---                                      0.7/7.6 MB 833.5 kB/s eta 0:00:09\n",
      "     ---                                      0.7/7.6 MB 833.5 kB/s eta 0:00:09\n",
      "     ---                                      0.7/7.6 MB 799.7 kB/s eta 0:00:09\n",
      "     ---                                      0.8/7.6 MB 758.9 kB/s eta 0:00:10\n",
      "     ----                                     0.8/7.6 MB 744.2 kB/s eta 0:00:10\n",
      "     ----                                     0.8/7.6 MB 730.1 kB/s eta 0:00:10\n",
      "     ----                                     0.8/7.6 MB 737.3 kB/s eta 0:00:10\n",
      "     ----                                     0.9/7.6 MB 733.9 kB/s eta 0:00:10\n",
      "     ----                                     0.9/7.6 MB 748.4 kB/s eta 0:00:09\n",
      "     ----                                     0.9/7.6 MB 745.5 kB/s eta 0:00:09\n",
      "     ----                                     1.0/7.6 MB 734.9 kB/s eta 0:00:10\n",
      "     -----                                    1.0/7.6 MB 733.1 kB/s eta 0:00:10\n",
      "     -----                                    1.0/7.6 MB 714.9 kB/s eta 0:00:10\n",
      "     -----                                    1.0/7.6 MB 698.5 kB/s eta 0:00:10\n",
      "     -----                                    1.0/7.6 MB 698.5 kB/s eta 0:00:10\n",
      "     -----                                    1.0/7.6 MB 682.7 kB/s eta 0:00:10\n",
      "     -----                                    1.1/7.6 MB 668.3 kB/s eta 0:00:10\n",
      "     -----                                    1.1/7.6 MB 674.5 kB/s eta 0:00:10\n",
      "     -----                                    1.1/7.6 MB 661.7 kB/s eta 0:00:10\n",
      "     -----                                    1.1/7.6 MB 655.3 kB/s eta 0:00:10\n",
      "     -----                                    1.1/7.6 MB 649.0 kB/s eta 0:00:11\n",
      "     -----                                    1.1/7.6 MB 649.2 kB/s eta 0:00:11\n",
      "     ------                                   1.2/7.6 MB 643.6 kB/s eta 0:00:11\n",
      "     ------                                   1.2/7.6 MB 633.1 kB/s eta 0:00:11\n",
      "     ------                                   1.2/7.6 MB 633.1 kB/s eta 0:00:11\n",
      "     ------                                   1.2/7.6 MB 622.9 kB/s eta 0:00:11\n",
      "     ------                                   1.2/7.6 MB 618.4 kB/s eta 0:00:11\n",
      "     ------                                   1.2/7.6 MB 618.4 kB/s eta 0:00:11\n",
      "     ------                                   1.2/7.6 MB 600.3 kB/s eta 0:00:11\n",
      "     ------                                   1.2/7.6 MB 587.2 kB/s eta 0:00:11\n",
      "     ------                                   1.3/7.6 MB 583.9 kB/s eta 0:00:11\n",
      "     ------                                   1.3/7.6 MB 583.9 kB/s eta 0:00:11\n",
      "     ------                                   1.3/7.6 MB 572.2 kB/s eta 0:00:12\n",
      "     ------                                   1.3/7.6 MB 569.4 kB/s eta 0:00:12\n",
      "     ------                                   1.3/7.6 MB 569.4 kB/s eta 0:00:12\n",
      "     ------                                   1.3/7.6 MB 559.7 kB/s eta 0:00:12\n",
      "     -------                                  1.4/7.6 MB 557.3 kB/s eta 0:00:12\n",
      "     -------                                  1.4/7.6 MB 554.4 kB/s eta 0:00:12\n",
      "     -------                                  1.4/7.6 MB 552.2 kB/s eta 0:00:12\n",
      "     -------                                  1.4/7.6 MB 553.5 kB/s eta 0:00:12\n",
      "     -------                                  1.4/7.6 MB 555.3 kB/s eta 0:00:12\n",
      "     -------                                  1.5/7.6 MB 557.1 kB/s eta 0:00:12\n",
      "     -------                                  1.5/7.6 MB 563.4 kB/s eta 0:00:11\n",
      "     --------                                 1.5/7.6 MB 564.9 kB/s eta 0:00:11\n",
      "     --------                                 1.6/7.6 MB 566.0 kB/s eta 0:00:11\n",
      "     --------                                 1.6/7.6 MB 560.1 kB/s eta 0:00:11\n",
      "     --------                                 1.6/7.6 MB 558.1 kB/s eta 0:00:11\n",
      "     --------                                 1.6/7.6 MB 549.5 kB/s eta 0:00:11\n",
      "     --------                                 1.6/7.6 MB 550.7 kB/s eta 0:00:11\n",
      "     --------                                 1.7/7.6 MB 552.3 kB/s eta 0:00:11\n",
      "     --------                                 1.7/7.6 MB 551.2 kB/s eta 0:00:11\n",
      "     --------                                 1.7/7.6 MB 552.1 kB/s eta 0:00:11\n",
      "     ---------                                1.7/7.6 MB 551.0 kB/s eta 0:00:11\n",
      "     ---------                                1.8/7.6 MB 552.0 kB/s eta 0:00:11\n",
      "     ---------                                1.8/7.6 MB 550.8 kB/s eta 0:00:11\n",
      "     ---------                                1.8/7.6 MB 555.0 kB/s eta 0:00:11\n",
      "     ---------                                1.9/7.6 MB 559.1 kB/s eta 0:00:11\n",
      "     ---------                                1.9/7.6 MB 563.4 kB/s eta 0:00:11\n",
      "     ---------                                1.9/7.6 MB 561.3 kB/s eta 0:00:11\n",
      "     ----------                               1.9/7.6 MB 562.6 kB/s eta 0:00:11\n",
      "     ----------                               2.0/7.6 MB 565.9 kB/s eta 0:00:11\n",
      "     ----------                               2.0/7.6 MB 564.7 kB/s eta 0:00:11\n",
      "     ----------                               2.0/7.6 MB 560.4 kB/s eta 0:00:11\n",
      "     ----------                               2.0/7.6 MB 553.7 kB/s eta 0:00:11\n",
      "     ----------                               2.0/7.6 MB 553.7 kB/s eta 0:00:11\n",
      "     ----------                               2.0/7.6 MB 549.8 kB/s eta 0:00:11\n",
      "     ----------                               2.1/7.6 MB 546.1 kB/s eta 0:00:11\n",
      "     ----------                               2.1/7.6 MB 544.2 kB/s eta 0:00:11\n",
      "     ----------                               2.1/7.6 MB 545.6 kB/s eta 0:00:11\n",
      "     -----------                              2.1/7.6 MB 546.5 kB/s eta 0:00:11\n",
      "     -----------                              2.1/7.6 MB 547.4 kB/s eta 0:00:11\n",
      "     -----------                              2.2/7.6 MB 546.4 kB/s eta 0:00:11\n",
      "     -----------                              2.2/7.6 MB 544.8 kB/s eta 0:00:11\n",
      "     -----------                              2.2/7.6 MB 548.6 kB/s eta 0:00:10\n",
      "     -----------                              2.2/7.6 MB 546.9 kB/s eta 0:00:10\n",
      "     -----------                              2.3/7.6 MB 548.1 kB/s eta 0:00:10\n",
      "     ------------                             2.3/7.6 MB 553.9 kB/s eta 0:00:10\n",
      "     ------------                             2.3/7.6 MB 555.0 kB/s eta 0:00:10\n",
      "     ------------                             2.4/7.6 MB 556.1 kB/s eta 0:00:10\n",
      "     ------------                             2.4/7.6 MB 556.9 kB/s eta 0:00:10\n",
      "     ------------                             2.4/7.6 MB 557.9 kB/s eta 0:00:10\n",
      "     ------------                             2.4/7.6 MB 557.1 kB/s eta 0:00:10\n",
      "     ------------                             2.5/7.6 MB 557.7 kB/s eta 0:00:10\n",
      "     ------------                             2.5/7.6 MB 557.7 kB/s eta 0:00:10\n",
      "     ------------                             2.5/7.6 MB 552.2 kB/s eta 0:00:10\n",
      "     -------------                            2.5/7.6 MB 549.1 kB/s eta 0:00:10\n",
      "     -------------                            2.5/7.6 MB 547.6 kB/s eta 0:00:10\n",
      "     -------------                            2.5/7.6 MB 546.4 kB/s eta 0:00:10\n",
      "     -------------                            2.5/7.6 MB 545.3 kB/s eta 0:00:10\n",
      "     -------------                            2.6/7.6 MB 542.0 kB/s eta 0:00:10\n",
      "     -------------                            2.6/7.6 MB 542.8 kB/s eta 0:00:10\n",
      "     -------------                            2.6/7.6 MB 540.4 kB/s eta 0:00:10\n",
      "     -------------                            2.6/7.6 MB 541.2 kB/s eta 0:00:10\n",
      "     -------------                            2.6/7.6 MB 539.8 kB/s eta 0:00:10\n",
      "     -------------                            2.7/7.6 MB 539.2 kB/s eta 0:00:10\n",
      "     --------------                           2.7/7.6 MB 539.9 kB/s eta 0:00:10\n",
      "     --------------                           2.7/7.6 MB 538.9 kB/s eta 0:00:10\n",
      "     --------------                           2.7/7.6 MB 536.0 kB/s eta 0:00:10\n",
      "     --------------                           2.7/7.6 MB 538.3 kB/s eta 0:00:10\n",
      "     --------------                           2.8/7.6 MB 536.1 kB/s eta 0:00:10\n",
      "     --------------                           2.8/7.6 MB 537.2 kB/s eta 0:00:10\n",
      "     --------------                           2.8/7.6 MB 538.3 kB/s eta 0:00:09\n",
      "     ---------------                          2.9/7.6 MB 541.3 kB/s eta 0:00:09\n",
      "     ---------------                          2.9/7.6 MB 543.8 kB/s eta 0:00:09\n",
      "     ---------------                          2.9/7.6 MB 544.9 kB/s eta 0:00:09\n",
      "     ---------------                          3.0/7.6 MB 545.8 kB/s eta 0:00:09\n",
      "     ---------------                          3.0/7.6 MB 549.8 kB/s eta 0:00:09\n",
      "     ---------------                          3.0/7.6 MB 552.6 kB/s eta 0:00:09\n",
      "     ----------------                         3.1/7.6 MB 552.0 kB/s eta 0:00:09\n",
      "     ----------------                         3.1/7.6 MB 553.8 kB/s eta 0:00:09\n",
      "     ----------------                         3.1/7.6 MB 554.9 kB/s eta 0:00:09\n",
      "     ----------------                         3.2/7.6 MB 555.7 kB/s eta 0:00:09\n",
      "     ----------------                         3.2/7.6 MB 558.1 kB/s eta 0:00:08\n",
      "     ----------------                         3.2/7.6 MB 558.9 kB/s eta 0:00:08\n",
      "     ----------------                         3.2/7.6 MB 559.6 kB/s eta 0:00:08\n",
      "     -----------------                        3.3/7.6 MB 562.2 kB/s eta 0:00:08\n",
      "     -----------------                        3.3/7.6 MB 563.0 kB/s eta 0:00:08\n",
      "     -----------------                        3.3/7.6 MB 563.2 kB/s eta 0:00:08\n",
      "     -----------------                        3.4/7.6 MB 565.8 kB/s eta 0:00:08\n",
      "     -----------------                        3.4/7.6 MB 568.0 kB/s eta 0:00:08\n",
      "     ------------------                       3.5/7.6 MB 570.4 kB/s eta 0:00:08\n",
      "     ------------------                       3.5/7.6 MB 572.7 kB/s eta 0:00:08\n",
      "     ------------------                       3.5/7.6 MB 576.8 kB/s eta 0:00:08\n",
      "     ------------------                       3.6/7.6 MB 578.8 kB/s eta 0:00:08\n",
      "     ------------------                       3.6/7.6 MB 582.5 kB/s eta 0:00:07\n",
      "     -------------------                      3.7/7.6 MB 583.3 kB/s eta 0:00:07\n",
      "     -------------------                      3.7/7.6 MB 587.0 kB/s eta 0:00:07\n",
      "     -------------------                      3.8/7.6 MB 594.0 kB/s eta 0:00:07\n",
      "     -------------------                      3.8/7.6 MB 595.9 kB/s eta 0:00:07\n",
      "     -------------------                      3.8/7.6 MB 596.0 kB/s eta 0:00:07\n",
      "     --------------------                     3.9/7.6 MB 598.2 kB/s eta 0:00:07\n",
      "     --------------------                     3.9/7.6 MB 598.6 kB/s eta 0:00:07\n",
      "     --------------------                     3.9/7.6 MB 600.6 kB/s eta 0:00:07\n",
      "     --------------------                     4.0/7.6 MB 602.4 kB/s eta 0:00:07\n",
      "     --------------------                     4.0/7.6 MB 604.2 kB/s eta 0:00:07\n",
      "     ---------------------                    4.0/7.6 MB 604.5 kB/s eta 0:00:06\n",
      "     ---------------------                    4.1/7.6 MB 604.9 kB/s eta 0:00:06\n",
      "     ---------------------                    4.1/7.6 MB 608.2 kB/s eta 0:00:06\n",
      "     ---------------------                    4.1/7.6 MB 610.0 kB/s eta 0:00:06\n",
      "     ---------------------                    4.2/7.6 MB 611.9 kB/s eta 0:00:06\n",
      "     ----------------------                   4.2/7.6 MB 613.5 kB/s eta 0:00:06\n",
      "     ----------------------                   4.2/7.6 MB 609.6 kB/s eta 0:00:06\n",
      "     ----------------------                   4.3/7.6 MB 611.3 kB/s eta 0:00:06\n",
      "     ----------------------                   4.3/7.6 MB 611.5 kB/s eta 0:00:06\n",
      "     ----------------------                   4.4/7.6 MB 613.3 kB/s eta 0:00:06\n",
      "     ----------------------                   4.4/7.6 MB 615.0 kB/s eta 0:00:06\n",
      "     -----------------------                  4.4/7.6 MB 618.1 kB/s eta 0:00:06\n",
      "     -----------------------                  4.5/7.6 MB 618.3 kB/s eta 0:00:06\n",
      "     -----------------------                  4.5/7.6 MB 617.1 kB/s eta 0:00:06\n",
      "     -----------------------                  4.5/7.6 MB 617.3 kB/s eta 0:00:06\n",
      "     -----------------------                  4.5/7.6 MB 617.5 kB/s eta 0:00:06\n",
      "     -----------------------                  4.5/7.6 MB 617.7 kB/s eta 0:00:06\n",
      "     -----------------------                  4.6/7.6 MB 613.8 kB/s eta 0:00:06\n",
      "     ------------------------                 4.6/7.6 MB 614.1 kB/s eta 0:00:05\n",
      "     ------------------------                 4.6/7.6 MB 613.0 kB/s eta 0:00:05\n",
      "     ------------------------                 4.6/7.6 MB 613.0 kB/s eta 0:00:05\n",
      "     ------------------------                 4.6/7.6 MB 611.9 kB/s eta 0:00:05\n",
      "     ------------------------                 4.6/7.6 MB 607.0 kB/s eta 0:00:05\n",
      "     ------------------------                 4.7/7.6 MB 607.2 kB/s eta 0:00:05\n",
      "     ------------------------                 4.7/7.6 MB 604.8 kB/s eta 0:00:05\n",
      "     ------------------------                 4.7/7.6 MB 606.5 kB/s eta 0:00:05\n",
      "     ------------------------                 4.7/7.6 MB 606.8 kB/s eta 0:00:05\n",
      "     ------------------------                 4.8/7.6 MB 608.2 kB/s eta 0:00:05\n",
      "     -------------------------                4.8/7.6 MB 607.2 kB/s eta 0:00:05\n",
      "     -------------------------                4.8/7.6 MB 607.5 kB/s eta 0:00:05\n",
      "     -------------------------                4.8/7.6 MB 607.5 kB/s eta 0:00:05\n",
      "     -------------------------                4.8/7.6 MB 601.7 kB/s eta 0:00:05\n",
      "     -------------------------                4.8/7.6 MB 601.7 kB/s eta 0:00:05\n",
      "     -------------------------                4.8/7.6 MB 601.7 kB/s eta 0:00:05\n",
      "     -------------------------                4.8/7.6 MB 601.7 kB/s eta 0:00:05\n",
      "     -------------------------                4.8/7.6 MB 601.7 kB/s eta 0:00:05\n",
      "     -------------------------                4.9/7.6 MB 590.4 kB/s eta 0:00:05\n",
      "     -------------------------                4.9/7.6 MB 590.4 kB/s eta 0:00:05\n",
      "     -------------------------                4.9/7.6 MB 587.3 kB/s eta 0:00:05\n",
      "     -------------------------                4.9/7.6 MB 584.2 kB/s eta 0:00:05\n",
      "     -------------------------                4.9/7.6 MB 583.4 kB/s eta 0:00:05\n",
      "     -------------------------                4.9/7.6 MB 583.7 kB/s eta 0:00:05\n",
      "     -------------------------                5.0/7.6 MB 583.1 kB/s eta 0:00:05\n",
      "     --------------------------               5.0/7.6 MB 583.3 kB/s eta 0:00:05\n",
      "     --------------------------               5.0/7.6 MB 582.4 kB/s eta 0:00:05\n",
      "     --------------------------               5.0/7.6 MB 582.9 kB/s eta 0:00:05\n",
      "     --------------------------               5.0/7.6 MB 581.0 kB/s eta 0:00:05\n",
      "     --------------------------               5.1/7.6 MB 581.2 kB/s eta 0:00:05\n",
      "     --------------------------               5.1/7.6 MB 580.3 kB/s eta 0:00:05\n",
      "     --------------------------               5.1/7.6 MB 580.9 kB/s eta 0:00:05\n",
      "     --------------------------               5.1/7.6 MB 579.9 kB/s eta 0:00:05\n",
      "     --------------------------               5.2/7.6 MB 581.2 kB/s eta 0:00:05\n",
      "     ---------------------------              5.2/7.6 MB 580.6 kB/s eta 0:00:05\n",
      "     ---------------------------              5.2/7.6 MB 581.0 kB/s eta 0:00:05\n",
      "     ---------------------------              5.2/7.6 MB 582.4 kB/s eta 0:00:05\n",
      "     ---------------------------              5.3/7.6 MB 582.6 kB/s eta 0:00:05\n",
      "     ---------------------------              5.3/7.6 MB 581.9 kB/s eta 0:00:05\n",
      "     ---------------------------              5.3/7.6 MB 581.0 kB/s eta 0:00:05\n",
      "     ---------------------------              5.3/7.6 MB 581.0 kB/s eta 0:00:05\n",
      "     ---------------------------              5.3/7.6 MB 581.0 kB/s eta 0:00:05\n",
      "     ---------------------------              5.3/7.6 MB 575.4 kB/s eta 0:00:05\n",
      "     ---------------------------              5.3/7.6 MB 575.4 kB/s eta 0:00:05\n",
      "     ---------------------------              5.3/7.6 MB 571.0 kB/s eta 0:00:05\n",
      "     ----------------------------             5.4/7.6 MB 571.3 kB/s eta 0:00:04\n",
      "     ----------------------------             5.4/7.6 MB 569.5 kB/s eta 0:00:04\n",
      "     ----------------------------             5.4/7.6 MB 569.9 kB/s eta 0:00:04\n",
      "     ----------------------------             5.4/7.6 MB 572.4 kB/s eta 0:00:04\n",
      "     ----------------------------             5.5/7.6 MB 572.9 kB/s eta 0:00:04\n",
      "     ----------------------------             5.5/7.6 MB 575.3 kB/s eta 0:00:04\n",
      "     ----------------------------             5.5/7.6 MB 574.5 kB/s eta 0:00:04\n",
      "     -----------------------------            5.6/7.6 MB 574.9 kB/s eta 0:00:04\n",
      "     -----------------------------            5.6/7.6 MB 574.2 kB/s eta 0:00:04\n",
      "     -----------------------------            5.6/7.6 MB 574.5 kB/s eta 0:00:04\n",
      "     -----------------------------            5.6/7.6 MB 571.8 kB/s eta 0:00:04\n",
      "     -----------------------------            5.6/7.6 MB 571.8 kB/s eta 0:00:04\n",
      "     -----------------------------            5.6/7.6 MB 569.4 kB/s eta 0:00:04\n",
      "     -----------------------------            5.7/7.6 MB 568.9 kB/s eta 0:00:04\n",
      "     -----------------------------            5.7/7.6 MB 569.2 kB/s eta 0:00:04\n",
      "     -----------------------------            5.7/7.6 MB 569.6 kB/s eta 0:00:04\n",
      "     ------------------------------           5.8/7.6 MB 570.9 kB/s eta 0:00:04\n",
      "     ------------------------------           5.8/7.6 MB 571.3 kB/s eta 0:00:04\n",
      "     ------------------------------           5.8/7.6 MB 571.5 kB/s eta 0:00:04\n",
      "     ------------------------------           5.8/7.6 MB 571.0 kB/s eta 0:00:04\n",
      "     ------------------------------           5.9/7.6 MB 571.3 kB/s eta 0:00:04\n",
      "     ------------------------------           5.9/7.6 MB 570.8 kB/s eta 0:00:04\n",
      "     ------------------------------           5.9/7.6 MB 572.0 kB/s eta 0:00:04\n",
      "     ------------------------------           5.9/7.6 MB 572.0 kB/s eta 0:00:04\n",
      "     -------------------------------          6.0/7.6 MB 572.7 kB/s eta 0:00:03\n",
      "     -------------------------------          6.0/7.6 MB 571.1 kB/s eta 0:00:03\n",
      "     -------------------------------          6.0/7.6 MB 571.3 kB/s eta 0:00:03\n",
      "     -------------------------------          6.0/7.6 MB 570.7 kB/s eta 0:00:03\n",
      "     -------------------------------          6.1/7.6 MB 570.3 kB/s eta 0:00:03\n",
      "     -------------------------------          6.1/7.6 MB 570.3 kB/s eta 0:00:03\n",
      "     -------------------------------          6.1/7.6 MB 568.1 kB/s eta 0:00:03\n",
      "     -------------------------------          6.1/7.6 MB 568.4 kB/s eta 0:00:03\n",
      "     --------------------------------         6.1/7.6 MB 569.6 kB/s eta 0:00:03\n",
      "     --------------------------------         6.2/7.6 MB 570.0 kB/s eta 0:00:03\n",
      "     --------------------------------         6.2/7.6 MB 571.3 kB/s eta 0:00:03\n",
      "     --------------------------------         6.3/7.6 MB 574.4 kB/s eta 0:00:03\n",
      "     ---------------------------------        6.3/7.6 MB 576.6 kB/s eta 0:00:03\n",
      "     ---------------------------------        6.3/7.6 MB 577.7 kB/s eta 0:00:03\n",
      "     ---------------------------------        6.4/7.6 MB 581.0 kB/s eta 0:00:03\n",
      "     ---------------------------------        6.5/7.6 MB 584.0 kB/s eta 0:00:03\n",
      "     ----------------------------------       6.5/7.6 MB 586.0 kB/s eta 0:00:02\n",
      "     ----------------------------------       6.6/7.6 MB 587.3 kB/s eta 0:00:02\n",
      "     ----------------------------------       6.6/7.6 MB 589.2 kB/s eta 0:00:02\n",
      "     ----------------------------------       6.6/7.6 MB 590.5 kB/s eta 0:00:02\n",
      "     ----------------------------------       6.7/7.6 MB 591.6 kB/s eta 0:00:02\n",
      "     -----------------------------------      6.7/7.6 MB 595.5 kB/s eta 0:00:02\n",
      "     -----------------------------------      6.8/7.6 MB 596.6 kB/s eta 0:00:02\n",
      "     -----------------------------------      6.8/7.6 MB 596.7 kB/s eta 0:00:02\n",
      "     -----------------------------------      6.8/7.6 MB 596.0 kB/s eta 0:00:02\n",
      "     -----------------------------------      6.8/7.6 MB 595.4 kB/s eta 0:00:02\n",
      "     -----------------------------------      6.9/7.6 MB 595.6 kB/s eta 0:00:02\n",
      "     -----------------------------------      6.9/7.6 MB 594.2 kB/s eta 0:00:02\n",
      "     ------------------------------------     6.9/7.6 MB 592.6 kB/s eta 0:00:02\n",
      "     ------------------------------------     6.9/7.6 MB 592.0 kB/s eta 0:00:02\n",
      "     ------------------------------------     6.9/7.6 MB 592.0 kB/s eta 0:00:02\n",
      "     ------------------------------------     6.9/7.6 MB 589.7 kB/s eta 0:00:02\n",
      "     ------------------------------------     7.0/7.6 MB 590.1 kB/s eta 0:00:02\n",
      "     ------------------------------------     7.0/7.6 MB 590.1 kB/s eta 0:00:02\n",
      "     ------------------------------------     7.0/7.6 MB 589.6 kB/s eta 0:00:02\n",
      "     ------------------------------------     7.0/7.6 MB 590.6 kB/s eta 0:00:02\n",
      "     ------------------------------------     7.0/7.6 MB 589.2 kB/s eta 0:00:02\n",
      "     ------------------------------------     7.1/7.6 MB 589.5 kB/s eta 0:00:01\n",
      "     -------------------------------------    7.1/7.6 MB 588.8 kB/s eta 0:00:01\n",
      "     -------------------------------------    7.1/7.6 MB 588.1 kB/s eta 0:00:01\n",
      "     -------------------------------------    7.1/7.6 MB 588.3 kB/s eta 0:00:01\n",
      "     -------------------------------------    7.1/7.6 MB 587.0 kB/s eta 0:00:01\n",
      "     -------------------------------------    7.2/7.6 MB 587.2 kB/s eta 0:00:01\n",
      "     -------------------------------------    7.2/7.6 MB 585.8 kB/s eta 0:00:01\n",
      "     -------------------------------------    7.2/7.6 MB 586.0 kB/s eta 0:00:01\n",
      "     -------------------------------------    7.2/7.6 MB 585.4 kB/s eta 0:00:01\n",
      "     -------------------------------------    7.2/7.6 MB 584.7 kB/s eta 0:00:01\n",
      "     -------------------------------------    7.2/7.6 MB 584.2 kB/s eta 0:00:01\n",
      "     -------------------------------------    7.2/7.6 MB 582.1 kB/s eta 0:00:01\n",
      "     --------------------------------------   7.3/7.6 MB 581.5 kB/s eta 0:00:01\n",
      "     --------------------------------------   7.3/7.6 MB 582.5 kB/s eta 0:00:01\n",
      "     --------------------------------------   7.3/7.6 MB 581.1 kB/s eta 0:00:01\n",
      "     --------------------------------------   7.3/7.6 MB 580.5 kB/s eta 0:00:01\n",
      "     --------------------------------------   7.3/7.6 MB 578.5 kB/s eta 0:00:01\n",
      "     --------------------------------------   7.3/7.6 MB 578.5 kB/s eta 0:00:01\n",
      "     --------------------------------------   7.4/7.6 MB 576.5 kB/s eta 0:00:01\n",
      "     --------------------------------------   7.4/7.6 MB 576.0 kB/s eta 0:00:01\n",
      "     --------------------------------------   7.4/7.6 MB 575.4 kB/s eta 0:00:01\n",
      "     --------------------------------------   7.4/7.6 MB 575.7 kB/s eta 0:00:01\n",
      "     ---------------------------------------  7.5/7.6 MB 576.8 kB/s eta 0:00:01\n",
      "     ---------------------------------------  7.5/7.6 MB 577.8 kB/s eta 0:00:01\n",
      "     ---------------------------------------  7.5/7.6 MB 579.0 kB/s eta 0:00:01\n",
      "     ---------------------------------------  7.6/7.6 MB 580.7 kB/s eta 0:00:01\n",
      "     ---------------------------------------  7.6/7.6 MB 583.3 kB/s eta 0:00:01\n",
      "     ---------------------------------------- 7.6/7.6 MB 581.0 kB/s eta 0:00:00\n",
      "Collecting contourpy>=1.0.1 (from matplotlib)\n",
      "  Downloading contourpy-1.2.0-cp311-cp311-win_amd64.whl (187 kB)\n",
      "                                              0.0/187.6 kB ? eta -:--:--\n",
      "     ------------                            61.4/187.6 kB 3.2 MB/s eta 0:00:01\n",
      "     ----------------------                 112.6/187.6 kB 1.6 MB/s eta 0:00:01\n",
      "     -------------------------------------  184.3/187.6 kB 1.6 MB/s eta 0:00:01\n",
      "     -------------------------------------- 187.6/187.6 kB 1.6 MB/s eta 0:00:00\n",
      "Collecting cycler>=0.10 (from matplotlib)\n",
      "  Downloading cycler-0.12.1-py3-none-any.whl (8.3 kB)\n",
      "Collecting fonttools>=4.22.0 (from matplotlib)\n",
      "  Downloading fonttools-4.45.0-cp311-cp311-win_amd64.whl (2.2 MB)\n",
      "                                              0.0/2.2 MB ? eta -:--:--\n",
      "                                              0.0/2.2 MB 1.9 MB/s eta 0:00:02\n",
      "     -                                        0.1/2.2 MB 1.2 MB/s eta 0:00:02\n",
      "     --                                       0.1/2.2 MB 1.2 MB/s eta 0:00:02\n",
      "     ---                                      0.2/2.2 MB 1.2 MB/s eta 0:00:02\n",
      "     ----                                     0.2/2.2 MB 1.1 MB/s eta 0:00:02\n",
      "     -----                                    0.3/2.2 MB 1.2 MB/s eta 0:00:02\n",
      "     ------                                   0.3/2.2 MB 1.2 MB/s eta 0:00:02\n",
      "     ------                                   0.4/2.2 MB 1.1 MB/s eta 0:00:02\n",
      "     -------                                  0.4/2.2 MB 1.1 MB/s eta 0:00:02\n",
      "     -------                                  0.4/2.2 MB 1.0 MB/s eta 0:00:02\n",
      "     --------                                 0.5/2.2 MB 1.0 MB/s eta 0:00:02\n",
      "     ---------                                0.5/2.2 MB 1.0 MB/s eta 0:00:02\n",
      "     ---------                                0.5/2.2 MB 1.0 MB/s eta 0:00:02\n",
      "     ----------                               0.6/2.2 MB 1.0 MB/s eta 0:00:02\n",
      "     ------------                             0.7/2.2 MB 1.1 MB/s eta 0:00:02\n",
      "     ------------                             0.7/2.2 MB 1.0 MB/s eta 0:00:02\n",
      "     ------------                             0.7/2.2 MB 1.0 MB/s eta 0:00:02\n",
      "     -------------                            0.7/2.2 MB 1.0 MB/s eta 0:00:02\n",
      "     --------------                           0.8/2.2 MB 1.0 MB/s eta 0:00:02\n",
      "     ---------------                          0.8/2.2 MB 996.3 kB/s eta 0:00:02\n",
      "     ---------------                          0.8/2.2 MB 977.5 kB/s eta 0:00:02\n",
      "     ---------------                          0.9/2.2 MB 938.1 kB/s eta 0:00:02\n",
      "     ----------------                         0.9/2.2 MB 928.9 kB/s eta 0:00:02\n",
      "     ----------------                         0.9/2.2 MB 919.4 kB/s eta 0:00:02\n",
      "     ----------------                         0.9/2.2 MB 886.9 kB/s eta 0:00:02\n",
      "     -----------------                        0.9/2.2 MB 870.4 kB/s eta 0:00:02\n",
      "     -----------------                        0.9/2.2 MB 840.3 kB/s eta 0:00:02\n",
      "     -----------------                        0.9/2.2 MB 840.3 kB/s eta 0:00:02\n",
      "     -----------------                        0.9/2.2 MB 840.3 kB/s eta 0:00:02\n",
      "     -----------------                        0.9/2.2 MB 840.3 kB/s eta 0:00:02\n",
      "     -----------------                        1.0/2.2 MB 761.9 kB/s eta 0:00:02\n",
      "     -----------------                        1.0/2.2 MB 761.9 kB/s eta 0:00:02\n",
      "     ------------------                       1.0/2.2 MB 724.8 kB/s eta 0:00:02\n",
      "     ------------------                       1.0/2.2 MB 714.9 kB/s eta 0:00:02\n",
      "     ------------------                       1.0/2.2 MB 706.5 kB/s eta 0:00:02\n",
      "     -------------------                      1.0/2.2 MB 696.9 kB/s eta 0:00:02\n",
      "     -------------------                      1.0/2.2 MB 696.9 kB/s eta 0:00:02\n",
      "     -------------------                      1.1/2.2 MB 682.2 kB/s eta 0:00:02\n",
      "     -------------------                      1.1/2.2 MB 674.9 kB/s eta 0:00:02\n",
      "     --------------------                     1.1/2.2 MB 661.6 kB/s eta 0:00:02\n",
      "     --------------------                     1.1/2.2 MB 661.6 kB/s eta 0:00:02\n",
      "     ---------------------                    1.2/2.2 MB 661.4 kB/s eta 0:00:02\n",
      "     ----------------------                   1.2/2.2 MB 672.7 kB/s eta 0:00:02\n",
      "     ----------------------                   1.2/2.2 MB 672.4 kB/s eta 0:00:02\n",
      "     -----------------------                  1.2/2.2 MB 671.9 kB/s eta 0:00:02\n",
      "     -----------------------                  1.3/2.2 MB 676.9 kB/s eta 0:00:02\n",
      "     ------------------------                 1.3/2.2 MB 671.1 kB/s eta 0:00:02\n",
      "     ------------------------                 1.3/2.2 MB 670.9 kB/s eta 0:00:02\n",
      "     -------------------------                1.4/2.2 MB 675.6 kB/s eta 0:00:02\n",
      "     -------------------------                1.4/2.2 MB 670.3 kB/s eta 0:00:02\n",
      "     --------------------------               1.4/2.2 MB 674.9 kB/s eta 0:00:02\n",
      "     ---------------------------              1.5/2.2 MB 683.9 kB/s eta 0:00:01\n",
      "     ----------------------------             1.5/2.2 MB 683.3 kB/s eta 0:00:01\n",
      "     ----------------------------             1.5/2.2 MB 687.6 kB/s eta 0:00:01\n",
      "     -----------------------------            1.6/2.2 MB 686.9 kB/s eta 0:00:01\n",
      "     -----------------------------            1.6/2.2 MB 691.0 kB/s eta 0:00:01\n",
      "     ------------------------------           1.6/2.2 MB 690.2 kB/s eta 0:00:01\n",
      "     ------------------------------           1.7/2.2 MB 689.5 kB/s eta 0:00:01\n",
      "     -------------------------------          1.7/2.2 MB 689.1 kB/s eta 0:00:01\n",
      "     --------------------------------         1.7/2.2 MB 700.9 kB/s eta 0:00:01\n",
      "     --------------------------------         1.8/2.2 MB 700.0 kB/s eta 0:00:01\n",
      "     ---------------------------------        1.8/2.2 MB 699.6 kB/s eta 0:00:01\n",
      "     ----------------------------------       1.8/2.2 MB 702.6 kB/s eta 0:00:01\n",
      "     ----------------------------------       1.9/2.2 MB 701.7 kB/s eta 0:00:01\n",
      "     -----------------------------------      1.9/2.2 MB 700.9 kB/s eta 0:00:01\n",
      "     -----------------------------------      1.9/2.2 MB 700.0 kB/s eta 0:00:01\n",
      "     ------------------------------------     2.0/2.2 MB 707.0 kB/s eta 0:00:01\n",
      "     -------------------------------------    2.0/2.2 MB 710.1 kB/s eta 0:00:01\n",
      "     --------------------------------------   2.1/2.2 MB 712.3 kB/s eta 0:00:01\n",
      "     --------------------------------------   2.1/2.2 MB 711.9 kB/s eta 0:00:01\n",
      "     --------------------------------------   2.1/2.2 MB 711.4 kB/s eta 0:00:01\n",
      "     --------------------------------------   2.1/2.2 MB 703.6 kB/s eta 0:00:01\n",
      "     ---------------------------------------  2.1/2.2 MB 699.3 kB/s eta 0:00:01\n",
      "     ---------------------------------------  2.1/2.2 MB 695.6 kB/s eta 0:00:01\n",
      "     ---------------------------------------- 2.2/2.2 MB 690.9 kB/s eta 0:00:00\n",
      "Collecting kiwisolver>=1.3.1 (from matplotlib)\n",
      "  Downloading kiwisolver-1.4.5-cp311-cp311-win_amd64.whl (56 kB)\n",
      "                                              0.0/56.1 kB ? eta -:--:--\n",
      "     -------                                  10.2/56.1 kB ? eta -:--:--\n",
      "     -------------------------------------- 56.1/56.1 kB 739.9 kB/s eta 0:00:00\n",
      "Requirement already satisfied: numpy<2,>=1.21 in c:\\users\\vaibh\\appdata\\local\\programs\\python\\python311\\lib\\site-packages (from matplotlib) (1.23.5)\n",
      "Requirement already satisfied: packaging>=20.0 in c:\\users\\vaibh\\appdata\\local\\programs\\python\\python311\\lib\\site-packages (from matplotlib) (23.1)\n",
      "Requirement already satisfied: pillow>=8 in c:\\users\\vaibh\\appdata\\local\\programs\\python\\python311\\lib\\site-packages (from matplotlib) (9.5.0)\n",
      "Collecting pyparsing>=2.3.1 (from matplotlib)\n",
      "  Downloading pyparsing-3.1.1-py3-none-any.whl (103 kB)\n",
      "                                              0.0/103.1 kB ? eta -:--:--\n",
      "     ---                                      10.2/103.1 kB ? eta -:--:--\n",
      "     --------------                        41.0/103.1 kB 495.5 kB/s eta 0:00:01\n",
      "     -------------------------             71.7/103.1 kB 563.7 kB/s eta 0:00:01\n",
      "     ------------------------------------ 103.1/103.1 kB 658.9 kB/s eta 0:00:00\n",
      "Requirement already satisfied: python-dateutil>=2.7 in c:\\users\\vaibh\\appdata\\local\\programs\\python\\python311\\lib\\site-packages (from matplotlib) (2.8.2)\n",
      "Requirement already satisfied: six>=1.5 in c:\\users\\vaibh\\appdata\\local\\programs\\python\\python311\\lib\\site-packages (from python-dateutil>=2.7->matplotlib) (1.16.0)\n",
      "Installing collected packages: pyparsing, kiwisolver, fonttools, cycler, contourpy, matplotlib\n",
      "Successfully installed contourpy-1.2.0 cycler-0.12.1 fonttools-4.45.0 kiwisolver-1.4.5 matplotlib-3.8.2 pyparsing-3.1.1\n",
      "Note: you may need to restart the kernel to use updated packages.\n"
     ]
    },
    {
     "name": "stderr",
     "output_type": "stream",
     "text": [
      "\n",
      "[notice] A new release of pip is available: 23.1.2 -> 23.3.1\n",
      "[notice] To update, run: python.exe -m pip install --upgrade pip\n"
     ]
    }
   ],
   "source": [
    "pip install matplotlib\n"
   ]
  },
  {
   "cell_type": "code",
   "execution_count": 29,
   "id": "f126902a-6ded-40b5-ad1f-e4de977a9024",
   "metadata": {},
   "outputs": [],
   "source": [
    "import matplotlib.pyplot as plt\n",
    "%matplotlib inline"
   ]
  },
  {
   "cell_type": "code",
   "execution_count": 32,
   "id": "ccf30617-fd07-4602-8344-ddc0b4b1fc16",
   "metadata": {},
   "outputs": [
    {
     "name": "stdout",
     "output_type": "stream",
     "text": [
      "original image is of happy\n",
      "1/1 [==============================] - 0s 115ms/step\n",
      "model prediction is  happy\n"
     ]
    },
    {
     "data": {
      "text/plain": [
       "<matplotlib.image.AxesImage at 0x277029aed90>"
      ]
     },
     "execution_count": 32,
     "metadata": {},
     "output_type": "execute_result"
    },
    {
     "data": {
      "image/png": "[encoded data removed]",
      "text/plain": [
       "<Figure size 640x480 with 1 Axes>"
      ]
     },
     "metadata": {},
     "output_type": "display_data"
    }
   ],
   "source": [
    "image = 'images/train/happy/16.jpg'\n",
    "print(\"original image is of happy\")\n",
    "img = ef(image)\n",
    "pred = model.predict(img)\n",
    "pred_label = label[pred.argmax()]\n",
    "print(\"model prediction is \",pred_label)\n",
    "plt.imshow(img.reshape(48,48),cmap='gray')"
   ]
  },
  {
   "cell_type": "code",
   "execution_count": 37,
   "id": "19d4cc11-f085-4a54-96b1-f55ea836a1da",
   "metadata": {},
   "outputs": [
    {
     "name": "stdout",
     "output_type": "stream",
     "text": [
      "original image is of happy\n",
      "1/1 [==============================] - 0s 70ms/step\n",
      "model prediction is  happy\n"
     ]
    },
    {
     "data": {
      "text/plain": [
       "<matplotlib.image.AxesImage at 0x27704c7f910>"
      ]
     },
     "execution_count": 37,
     "metadata": {},
     "output_type": "execute_result"
    },
    {
     "data": {
      "image/png": "[encoded data removed]",
      "text/plain": [
       "<Figure size 640x480 with 1 Axes>"
      ]
     },
     "metadata": {},
     "output_type": "display_data"
    }
   ],
   "source": [
    "image = 'images/test/happy/8.jpg'\n",
    "print(\"original image is of happy\")\n",
    "img = ef(image)\n",
    "pred = model.predict(img)\n",
    "pred_label = label[pred.argmax()]\n",
    "print(\"model prediction is \",pred_label)\n",
    "plt.imshow(img.reshape(48,48),cmap='gray')"
   ]
  },
  {
   "cell_type": "code",
   "execution_count": 34,
   "id": "fa1bee96-2694-4b02-b732-403a36ca1f93",
   "metadata": {},
   "outputs": [
    {
     "name": "stdout",
     "output_type": "stream",
     "text": [
      "original image is of disgust\n",
      "1/1 [==============================] - 0s 57ms/step\n",
      "model prediction is  disgust\n"
     ]
    },
    {
     "data": {
      "text/plain": [
       "<matplotlib.image.AxesImage at 0x27704bb2710>"
      ]
     },
     "execution_count": 34,
     "metadata": {},
     "output_type": "execute_result"
    },
    {
     "data": {
      "image/png": "[encoded data removed]",
      "text/plain": [
       "<Figure size 640x480 with 1 Axes>"
      ]
     },
     "metadata": {},
     "output_type": "display_data"
    }
   ],
   "source": [
    "image = 'images/train/disgust/299.jpg'\n",
    "print(\"original image is of disgust\")\n",
    "img = ef(image)\n",
    "pred = model.predict(img)\n",
    "pred_label = label[pred.argmax()]\n",
    "print(\"model prediction is \",pred_label)\n",
    "plt.imshow(img.reshape(48,48),cmap='gray')"
   ]
  },
  {
   "cell_type": "code",
   "execution_count": 35,
   "id": "e32bb415-1d3a-4900-aae6-a0ff63b32cdb",
   "metadata": {},
   "outputs": [
    {
     "name": "stdout",
     "output_type": "stream",
     "text": [
      "original image is of surprise\n",
      "1/1 [==============================] - 0s 82ms/step\n",
      "model prediction is  surprise\n"
     ]
    },
    {
     "data": {
      "text/plain": [
       "<matplotlib.image.AxesImage at 0x27704bff210>"
      ]
     },
     "execution_count": 35,
     "metadata": {},
     "output_type": "execute_result"
    },
    {
     "data": {
      "image/png": "[encoded data removed]",
      "text/plain": [
       "<Figure size 640x480 with 1 Axes>"
      ]
     },
     "metadata": {},
     "output_type": "display_data"
    }
   ],
   "source": [
    "image = 'images/train/surprise/15.jpg'\n",
    "print(\"original image is of surprise\")\n",
    "img = ef(image)\n",
    "pred = model.predict(img)\n",
    "pred_label = label[pred.argmax()]\n",
    "print(\"model prediction is \",pred_label)\n",
    "plt.imshow(img.reshape(48,48),cmap='gray')"
   ]
  },
  {
   "cell_type": "code",
   "execution_count": null,
   "id": "eb781163-2aba-4641-a927-dcf7caf010c2",
   "metadata": {},
   "outputs": [],
   "source": []
  }
 ],
 "metadata": {
  "kernelspec": {
   "display_name": "Python 3 (ipykernel)",
   "language": "python",
   "name": "python3"
  },
  "language_info": {
   "codemirror_mode": {
    "name": "ipython",
    "version": 3
   },
   "file_extension": ".py",
   "mimetype": "text/x-python",
   "name": "python",
   "nbconvert_exporter": "python",
   "pygments_lexer": "ipython3",
   "version": "3.11.2"
  }
 },
 "nbformat": 4,
 "nbformat_minor": 5
}
